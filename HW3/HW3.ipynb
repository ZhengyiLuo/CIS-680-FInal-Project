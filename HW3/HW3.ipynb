{
 "cells": [
  {
   "cell_type": "code",
   "execution_count": 2,
   "metadata": {},
   "outputs": [
    {
     "name": "stdout",
     "output_type": "stream",
     "text": [
      "--2018-12-01 17:38:51--  https://fling.seas.upenn.edu/~cis680/wiki/Projects/Fall2017/celeba.zip\n",
      "Resolving fling.seas.upenn.edu (fling.seas.upenn.edu)... 158.130.68.16\n",
      "Connecting to fling.seas.upenn.edu (fling.seas.upenn.edu)|158.130.68.16|:443... connected.\n",
      "HTTP request sent, awaiting response... 200 OK\n",
      "Length: 574859470 (548M) [application/zip]\n",
      "Saving to: ‘celeba.zip’\n",
      "\n",
      "celeba.zip          100%[===================>] 548.23M  44.9MB/s    in 12s     \n",
      "\n",
      "2018-12-01 17:39:03 (47.2 MB/s) - ‘celeba.zip’ saved [574859470/574859470]\n",
      "\n"
     ]
    }
   ],
   "source": [
    "!wget https://fling.seas.upenn.edu/~cis680/wiki/Projects/Fall2017/celeba.zip"
   ]
  },
  {
   "cell_type": "code",
   "execution_count": null,
   "metadata": {},
   "outputs": [],
   "source": []
  }
 ],
 "metadata": {
  "kernelspec": {
   "display_name": "Python [conda env:cv]",
   "language": "python",
   "name": "conda-env-cv-py"
  },
  "language_info": {
   "codemirror_mode": {
    "name": "ipython",
    "version": 3
   },
   "file_extension": ".py",
   "mimetype": "text/x-python",
   "name": "python",
   "nbconvert_exporter": "python",
   "pygments_lexer": "ipython3",
   "version": "3.6.6"
  }
 },
 "nbformat": 4,
 "nbformat_minor": 2
}
